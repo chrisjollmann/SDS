{
 "cells": [
  {
   "cell_type": "markdown",
   "metadata": {},
   "source": [
    "#### Problem 0.1.1"
   ]
  },
  {
   "cell_type": "code",
   "execution_count": null,
   "metadata": {},
   "outputs": [],
   "source": [
    "answer_001 = 2 + 9"
   ]
  },
  {
   "cell_type": "code",
   "execution_count": null,
   "metadata": {},
   "outputs": [],
   "source": [
    "assert answer_001 == 11"
   ]
  },
  {
   "cell_type": "markdown",
   "metadata": {},
   "source": [
    "#### Problem 0.1.2"
   ]
  },
  {
   "cell_type": "code",
   "execution_count": null,
   "metadata": {},
   "outputs": [],
   "source": [
    "a = 'Social'\n",
    "b = 'Data'\n",
    "c = 'Science'\n",
    "\n",
    "answer_002 = a + b + c"
   ]
  },
  {
   "cell_type": "code",
   "execution_count": null,
   "metadata": {},
   "outputs": [],
   "source": [
    "assert answer_002 == 'SocialDataScience'"
   ]
  },
  {
   "cell_type": "markdown",
   "metadata": {},
   "source": [
    "#### Problem 0.1.3"
   ]
  },
  {
   "cell_type": "code",
   "execution_count": null,
   "metadata": {},
   "outputs": [],
   "source": [
    "answer_0031 = 4.2 + 2\n",
    "answer_0032 = 0.33*10"
   ]
  },
  {
   "cell_type": "code",
   "execution_count": null,
   "metadata": {},
   "outputs": [],
   "source": [
    "assert answer_0031 == 6.2\n",
    "assert answer_0032 == 0.33*10\n",
    "assert type(answer_0032) == float"
   ]
  },
  {
   "cell_type": "markdown",
   "metadata": {},
   "source": [
    "#### Problem 0.1.4"
   ]
  },
  {
   "cell_type": "code",
   "execution_count": null,
   "metadata": {},
   "outputs": [],
   "source": [
    "y = [0,4,'a','g']\n",
    "z = (0,4,'a','g')\n",
    "answer_004_y0 = y[0]\n",
    "answer_004_z1 = z[1]"
   ]
  },
  {
   "cell_type": "code",
   "execution_count": null,
   "metadata": {},
   "outputs": [],
   "source": [
    "assert y == [0, 4, 'a', 'g']\n",
    "assert z == (0, 4, 'a', 'g')\n",
    "assert answer_004_y0 == 0\n",
    "assert answer_004_z1 == 4"
   ]
  },
  {
   "cell_type": "markdown",
   "metadata": {},
   "source": [
    "#### Problem 0.2.1\n",
    "I choose the value 6 because its greater that 5 and smaller than 8"
   ]
  },
  {
   "cell_type": "code",
   "execution_count": 361,
   "metadata": {},
   "outputs": [
    {
     "name": "stdout",
     "output_type": "stream",
     "text": [
      "Good job!\n"
     ]
    }
   ],
   "source": [
    "x = 6\n",
    "\n",
    "if x < 5:\n",
    "    answer_021_sentinel = 0\n",
    "    print(\"x is too small\")\n",
    "\n",
    "elif x >= 5 and x < 8:\n",
    "    answer_021_sentinel = 1\n",
    "    print(\"Good job!\")\n",
    "\n",
    "else: \n",
    "    answer_021_sentinel = 0    \n",
    "    print(\"x is too large\")"
   ]
  },
  {
   "cell_type": "code",
   "execution_count": 362,
   "metadata": {},
   "outputs": [],
   "source": [
    "assert answer_021_sentinel == 1"
   ]
  },
  {
   "cell_type": "markdown",
   "metadata": {},
   "source": [
    "#### Problem 0.2.2"
   ]
  },
  {
   "cell_type": "code",
   "execution_count": 363,
   "metadata": {},
   "outputs": [],
   "source": [
    "import random\n",
    "randnum = random.uniform(0,1)\n",
    "\n",
    "if randnum <= 0.3:\n",
    "    answer_022 = 0 \n",
    "else:\n",
    "    answer_022 = 1\n"
   ]
  },
  {
   "cell_type": "code",
   "execution_count": 364,
   "metadata": {},
   "outputs": [],
   "source": [
    "assert (answer_022 == 0 and randnum <= 0.3) \\\n",
    "or (answer_022 == 1 and randnum > 0.3)"
   ]
  },
  {
   "cell_type": "markdown",
   "metadata": {},
   "source": [
    "#### Problem 0.2.3"
   ]
  },
  {
   "cell_type": "code",
   "execution_count": 367,
   "metadata": {},
   "outputs": [],
   "source": [
    "answer_023 = []\n",
    "\n",
    "for j in [0,4,'a','g']:\n",
    "    j_x3 = j*3\n",
    "    answer_023.append(j_x3)\n"
   ]
  },
  {
   "cell_type": "code",
   "execution_count": null,
   "metadata": {},
   "outputs": [],
   "source": [
    "assert answer_023 == [0, 12, 'aaa', 'ggg']"
   ]
  },
  {
   "cell_type": "markdown",
   "metadata": {},
   "source": [
    "#### Problem 0.2.4"
   ]
  },
  {
   "cell_type": "code",
   "execution_count": 371,
   "metadata": {},
   "outputs": [
    {
     "ename": "KeyboardInterrupt",
     "evalue": "",
     "output_type": "error",
     "traceback": [
      "\u001b[1;31m---------------------------------------------------------------------------\u001b[0m",
      "\u001b[1;31mKeyboardInterrupt\u001b[0m                         Traceback (most recent call last)",
      "\u001b[1;32m<ipython-input-371-14d3d77d5b49>\u001b[0m in \u001b[0;36m<module>\u001b[1;34m\u001b[0m\n\u001b[0;32m      4\u001b[0m \u001b[1;32mwhile\u001b[0m \u001b[0mi\u001b[0m\u001b[1;33m<\u001b[0m\u001b[1;36m1000\u001b[0m\u001b[1;33m:\u001b[0m\u001b[1;33m\u001b[0m\u001b[1;33m\u001b[0m\u001b[0m\n\u001b[0;32m      5\u001b[0m     \u001b[1;32mif\u001b[0m \u001b[0mi\u001b[0m\u001b[1;33m%\u001b[0m\u001b[1;36m27\u001b[0m \u001b[1;33m==\u001b[0m \u001b[1;36m0\u001b[0m\u001b[1;33m:\u001b[0m\u001b[1;33m\u001b[0m\u001b[1;33m\u001b[0m\u001b[0m\n\u001b[1;32m----> 6\u001b[1;33m         \u001b[0manswer_024\u001b[0m\u001b[1;33m.\u001b[0m\u001b[0mappend\u001b[0m\u001b[1;33m(\u001b[0m\u001b[0mi\u001b[0m\u001b[1;33m)\u001b[0m\u001b[1;33m\u001b[0m\u001b[1;33m\u001b[0m\u001b[0m\n\u001b[0m\u001b[0;32m      7\u001b[0m         \u001b[0mi\u001b[0m \u001b[1;33m+\u001b[0m \u001b[1;36m1\u001b[0m\u001b[1;33m\u001b[0m\u001b[1;33m\u001b[0m\u001b[0m\n\u001b[0;32m      8\u001b[0m \u001b[1;33m\u001b[0m\u001b[0m\n",
      "\u001b[1;31mKeyboardInterrupt\u001b[0m: "
     ]
    }
   ],
   "source": [
    "answer_024 = []\n",
    "\n",
    "i = 0\n",
    "while i<1000:\n",
    "    if i%27 == 0:\n",
    "        answer_024.append(i)\n",
    "        i + 1 \n",
    "\n",
    "print(answer_024)"
   ]
  },
  {
   "cell_type": "code",
   "execution_count": 372,
   "metadata": {},
   "outputs": [
    {
     "ename": "AssertionError",
     "evalue": "",
     "output_type": "error",
     "traceback": [
      "\u001b[1;31m---------------------------------------------------------------------------\u001b[0m",
      "\u001b[1;31mAssertionError\u001b[0m                            Traceback (most recent call last)",
      "\u001b[1;32m<ipython-input-372-7f06e9153d27>\u001b[0m in \u001b[0;36m<module>\u001b[1;34m\u001b[0m\n\u001b[1;32m----> 1\u001b[1;33m \u001b[1;32massert\u001b[0m \u001b[0manswer_024\u001b[0m \u001b[1;33m==\u001b[0m \u001b[1;33m[\u001b[0m\u001b[0mi\u001b[0m \u001b[1;32mfor\u001b[0m \u001b[0mi\u001b[0m \u001b[1;32min\u001b[0m \u001b[0mrange\u001b[0m\u001b[1;33m(\u001b[0m\u001b[1;36m1000\u001b[0m\u001b[1;33m)\u001b[0m \u001b[1;32mif\u001b[0m \u001b[0mi\u001b[0m \u001b[1;33m%\u001b[0m \u001b[1;36m27\u001b[0m \u001b[1;33m==\u001b[0m \u001b[1;36m0\u001b[0m\u001b[1;33m]\u001b[0m\u001b[1;33m\u001b[0m\u001b[1;33m\u001b[0m\u001b[0m\n\u001b[0m",
      "\u001b[1;31mAssertionError\u001b[0m: "
     ]
    }
   ],
   "source": [
    "assert answer_024 == [i for i in range(1000) if i % 27 == 0]"
   ]
  },
  {
   "cell_type": "markdown",
   "metadata": {},
   "source": [
    "### Problem 0.3"
   ]
  },
  {
   "cell_type": "markdown",
   "metadata": {},
   "source": [
    "#### Problem 0.3.1"
   ]
  },
  {
   "cell_type": "code",
   "execution_count": null,
   "metadata": {},
   "outputs": [],
   "source": [
    "list031 = [-506,286,-456,-316,531,-646,203,-568,882,-61]\n",
    "answer_0311 = []\n",
    "\n",
    "def minimum(x):\n",
    "    MinVal = min(x)\n",
    "    index = list031.index(MinVal)\n",
    "    answer_0311.append(index)\n",
    "    answer_0311.append(MinVal)\n",
    "    answer_031 = tuple(answer_0311)\n",
    "    return answer_031\n"
   ]
  },
  {
   "cell_type": "code",
   "execution_count": null,
   "metadata": {},
   "outputs": [],
   "source": [
    "assert minimum([-506,286,-456,-316,531,-646,203,-568,882,-61]) == (5, -646)\n",
    "assert answer_031 == (5, -646)\n",
    "assert minimum([ 108, -896,  653, -546,  139, -265,  175,  520,  970,  129]) == (1, -896)\n",
    "assert minimum([ 717,  -78, -345,  644,  841, -516,  501,  216,  754, -420]) == (5, -516)"
   ]
  },
  {
   "cell_type": "markdown",
   "metadata": {},
   "source": [
    "#### Problem 3.2"
   ]
  },
  {
   "cell_type": "code",
   "execution_count": null,
   "metadata": {},
   "outputs": [],
   "source": [
    "list032 = [1,2,3,4,5,6,7,8,9]\n",
    "\n",
    "def average(x):\n",
    "    return sum(x) / len(x)\n",
    "\n",
    "answer_032 = average(list032)"
   ]
  },
  {
   "cell_type": "code",
   "execution_count": null,
   "metadata": {},
   "outputs": [],
   "source": [
    "assert average([1,2,3,4,5,6,7,8,9]) == 5\n",
    "assert answer_032 == 5\n",
    "assert average([1,1]) == 1\n",
    "assert average([-2,2]) == 0\n",
    "assert average([1]) == 1"
   ]
  },
  {
   "cell_type": "code",
   "execution_count": null,
   "metadata": {
    "editable": false,
    "nbgrader": {
     "cell_type": "code",
     "checksum": "ca8c3676a4ea1a93900039adc8bb6eec",
     "grade": true,
     "grade_id": "problem_032_tests",
     "locked": true,
     "points": 1,
     "schema_version": 3,
     "solution": false,
     "task": false
    }
   },
   "outputs": [],
   "source": [
    "assert average([1,2,3,4,5,6,7,8,9]) == 5\n",
    "assert answer_032 == 5\n",
    "assert average([1,1]) == 1\n",
    "assert average([-2,2]) == 0\n",
    "assert average([1]) == 1"
   ]
  },
  {
   "cell_type": "code",
   "execution_count": null,
   "metadata": {
    "editable": false,
    "nbgrader": {
     "cell_type": "code",
     "checksum": "ca8c3676a4ea1a93900039adc8bb6eec",
     "grade": true,
     "grade_id": "problem_032_tests",
     "locked": true,
     "points": 1,
     "schema_version": 3,
     "solution": false,
     "task": false
    }
   },
   "outputs": [],
   "source": [
    "assert average([1,2,3,4,5,6,7,8,9]) == 5\n",
    "assert answer_032 == 5\n",
    "assert average([1,1]) == 1\n",
    "assert average([-2,2]) == 0\n",
    "assert average([1]) == 1"
   ]
  },
  {
   "cell_type": "markdown",
   "metadata": {},
   "source": [
    "#### Problem 3.3"
   ]
  },
  {
   "cell_type": "code",
   "execution_count": null,
   "metadata": {},
   "outputs": [],
   "source": [
    "def eulers_e(x,n):\n",
    "    e = (1 + x / n)**n \n",
    "    return e\n",
    "\n",
    "answer_033 = eulers_e(1,50)"
   ]
  },
  {
   "cell_type": "code",
   "execution_count": null,
   "metadata": {},
   "outputs": [],
   "source": [
    "assert round(answer_033, 2) == 2.69\n",
    "assert eulers_e(1,1) == 2\n",
    "assert eulers_e(0,19) == 1\n",
    "assert round(eulers_e(1,1000), 2) == 2.72"
   ]
  },
  {
   "cell_type": "markdown",
   "metadata": {},
   "source": [
    "#### Problem 3.4"
   ]
  },
  {
   "cell_type": "code",
   "execution_count": null,
   "metadata": {},
   "outputs": [],
   "source": [
    "def natural_logarithm(x,kmax):\n",
    "    ini = 0\n",
    "    for k in range(0,kmax):\n",
    "        part = 1/(2*k + 1) * ((x-1)/(x+1))**(2*k+1)\n",
    "        ini = ini + part \n",
    "    \n",
    "    return ini*2\n",
    "\n",
    "answer_034 = natural_logarithm(2.71, 1000)\n"
   ]
  },
  {
   "cell_type": "code",
   "execution_count": null,
   "metadata": {},
   "outputs": [],
   "source": [
    "assert round(answer_034) == 1\n",
    "assert natural_logarithm(1,0) == 0\n",
    "assert natural_logarithm(0,0) == -2 or natural_logarithm(0,1) == -2\n",
    "assert natural_logarithm(1,100) == 0"
   ]
  },
  {
   "cell_type": "markdown",
   "metadata": {},
   "source": [
    "#### Problem 3.5"
   ]
  },
  {
   "cell_type": "code",
   "execution_count": null,
   "metadata": {},
   "outputs": [],
   "source": [
    "def exponentiate(func):\n",
    "    def with_exp(x, k):\n",
    "        e = eulers_e(x, k)\n",
    "        value = func(e, k)\n",
    "        return value\n",
    "    return with_exp\n"
   ]
  },
  {
   "cell_type": "code",
   "execution_count": null,
   "metadata": {},
   "outputs": [],
   "source": [
    "Write a function called exponentiate that takes one input named func. In the body of exponentiate \n",
    "define a nested function (i.e. a function within a function) called with_exp that takes two inputs x and k.\n",
    "The nested function should return func(e, k) where e=eulers_e(x, k). The outer function should return the nested function with_exp,\n",
    "i.e. write something like\n",
    "\n",
    "def exponentiate(func):\n",
    "    def with_exp(x, k):\n",
    "        e = eulers_e(x, k)\n",
    "        value = #[FILL IN]\n",
    "        return value\n",
    "    return with_exp\n",
    "Call the exponentiate function on natural_logarithm and store the result in a new variable called logexp.\n",
    "Then call logexp(1, 1000) and store this value in the variable answer_035."
   ]
  },
  {
   "cell_type": "code",
   "execution_count": null,
   "metadata": {},
   "outputs": [],
   "source": [
    "assert round(answer_035) == 1\n",
    "assert round(logexp(2, 1000)) == 2\n",
    "assert round(logexp(3, 1000)) == 3\n",
    "assert round(logexp(4, 1000)) == 4"
   ]
  },
  {
   "cell_type": "markdown",
   "metadata": {},
   "source": [
    "#### Problem 0.4.1"
   ]
  },
  {
   "cell_type": "code",
   "execution_count": null,
   "metadata": {},
   "outputs": [],
   "source": [
    "weather_url = 'ftp://ftp.ncdc.noaa.gov/pub/data/ghcn/daily/by_year/1864.csv.gz'\n",
    "df_weather = pd.read_csv(weather_url, header=None) "
   ]
  },
  {
   "cell_type": "code",
   "execution_count": null,
   "metadata": {},
   "outputs": [],
   "source": [
    "assert len(df_weather[0].unique()) == 76\n",
    "assert ('ASN00075048' in df_weather[0].unique()) & ('USP00CA0003' in  df_weather[0].unique())\n",
    "assert len(df_weather) == 31921"
   ]
  },
  {
   "cell_type": "markdown",
   "metadata": {},
   "source": [
    "#### Problem 0.4.2"
   ]
  },
  {
   "cell_type": "code",
   "execution_count": null,
   "metadata": {},
   "outputs": [],
   "source": [
    "df_weather = df_weather.iloc[:,:4]\n",
    "df_weather.columns = ['station', 'datetime', 'obs_type', 'obs_value']"
   ]
  },
  {
   "cell_type": "code",
   "execution_count": null,
   "metadata": {},
   "outputs": [],
   "source": [
    "assert len(df_weather.columns) == 4\n",
    "assert df_weather.columns[0] == \"station\"\n",
    "assert df_weather.columns[1] == \"datetime\"\n",
    "assert df_weather.columns[2] == \"obs_type\"\n",
    "assert df_weather.columns[3] == \"obs_value\""
   ]
  },
  {
   "cell_type": "markdown",
   "metadata": {},
   "source": [
    "#### Problem 0.4.3"
   ]
  },
  {
   "cell_type": "code",
   "execution_count": null,
   "metadata": {},
   "outputs": [],
   "source": [
    "df_select = df_weather.copy"
   ]
  },
  {
   "cell_type": "code",
   "execution_count": null,
   "metadata": {},
   "outputs": [],
   "source": [
    "df_select = df_weather[df_weather['station'].str.contains(\"ITE00100550\") & df_weather['obs_type'].str.contains(\"TMAX\")]"
   ]
  },
  {
   "cell_type": "code",
   "execution_count": null,
   "metadata": {},
   "outputs": [],
   "source": [
    "assert (df_select.obs_type == \"TMAX\").sum() == 366\n",
    "assert (df_select.station == \"ITE00100550\").sum() == 366\n",
    "assert len(df_select.obs_type.unique()) == 1"
   ]
  },
  {
   "cell_type": "markdown",
   "metadata": {},
   "source": [
    "#### Problem 0.4.4"
   ]
  },
  {
   "cell_type": "code",
   "execution_count": null,
   "metadata": {},
   "outputs": [],
   "source": [
    "df_select['TMAX_F'] = df_select['obs_value'] * 1.8 + 32"
   ]
  },
  {
   "cell_type": "code",
   "execution_count": null,
   "metadata": {},
   "outputs": [],
   "source": [
    "assert df_select.obs_value.sum() == 5947.4"
   ]
  },
  {
   "cell_type": "markdown",
   "metadata": {},
   "source": [
    "#### Problem 0.4.5"
   ]
  },
  {
   "cell_type": "code",
   "execution_count": null,
   "metadata": {},
   "outputs": [],
   "source": [
    "df_select = df_select.reset_index(drop=True)"
   ]
  },
  {
   "cell_type": "code",
   "execution_count": null,
   "metadata": {},
   "outputs": [],
   "source": [
    "assert (df_select.index == range(0, 366)).sum() == len(df_select)"
   ]
  },
  {
   "cell_type": "markdown",
   "metadata": {},
   "source": [
    "#### Problem 0.4.6"
   ]
  },
  {
   "cell_type": "code",
   "execution_count": null,
   "metadata": {},
   "outputs": [],
   "source": [
    "df_sorted = df_select.sort_values(by=['obs_value'])"
   ]
  },
  {
   "cell_type": "code",
   "execution_count": null,
   "metadata": {},
   "outputs": [],
   "source": [
    "assert df_sorted['datetime'].iloc[0] == 18640117\n",
    "assert df_sorted['datetime'].iloc[-1] == 18640809"
   ]
  },
  {
   "cell_type": "markdown",
   "metadata": {},
   "source": [
    "#### Problem 0.5.0"
   ]
  },
  {
   "cell_type": "code",
   "execution_count": null,
   "metadata": {},
   "outputs": [],
   "source": [
    "chars = [\"en\", \"da\"z]\n",
    "answer_050 = []\n",
    "\n",
    "for i in chars: \n",
    "    f\"https://www.dst.dk/{i}/\"\n",
    "    change_url(i)\n",
    "    answer_050.append(change_url(i))"
   ]
  },
  {
   "cell_type": "code",
   "execution_count": null,
   "metadata": {},
   "outputs": [],
   "source": [
    "assert answer_050[0] == 'https://www.dst.dk/en/'"
   ]
  },
  {
   "cell_type": "markdown",
   "metadata": {},
   "source": [
    "#### Problem 0.5.1"
   ]
  },
  {
   "cell_type": "code",
   "execution_count": null,
   "metadata": {},
   "outputs": [],
   "source": [
    "def weatherdata(x):\n",
    "    df_weather = pd.read_csv(f'ftp://ftp.ncdc.noaa.gov/pub/data/ghcn/daily/by_year/186{x}.csv.gz', compression='gzip', header=None)\n",
    "    df_weather = df_weather.iloc[:,:4]\n",
    "    df_weather.columns=['station','datetime','obs_type','obs_value']\n",
    "    return df_weather\n",
    "\n",
    "list_of_dfs=[weatherdata(4),weatherdata(5),weatherdata(6),weatherdata(7)]\n",
    "df_weather_period=pd.concat(list_of_dfs)\n",
    "df_weather_period.reset_index(level=0, drop=True, inplace=True)"
   ]
  },
  {
   "cell_type": "code",
   "execution_count": null,
   "metadata": {},
   "outputs": [],
   "source": [
    "assert len(list_of_dfs[0]) == 31921\n",
    "assert len(list_of_dfs[1]) == 33228\n",
    "assert len(list_of_dfs[2]) == 42289\n",
    "assert len(list_of_dfs[3]) == 52339\n",
    "assert len(df_weather_period) == 159777\n",
    "assert df_weather_period.index[-1] == 159776"
   ]
  }
 ],
 "metadata": {
  "kernelspec": {
   "display_name": "Python 3",
   "language": "python",
   "name": "python3"
  },
  "language_info": {
   "codemirror_mode": {
    "name": "ipython",
    "version": 3
   },
   "file_extension": ".py",
   "mimetype": "text/x-python",
   "name": "python",
   "nbconvert_exporter": "python",
   "pygments_lexer": "ipython3",
   "version": "3.7.6"
  }
 },
 "nbformat": 4,
 "nbformat_minor": 4
}
